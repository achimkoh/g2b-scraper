from selenium import webdriver
from bs4 import BeautifulSoup as BS
import json
import re
from time import sleep
import codecs

