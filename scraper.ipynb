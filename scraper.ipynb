{
 "cells": [
  {
   "cell_type": "code",
   "execution_count": null,
   "metadata": {
    "collapsed": true
   },
   "outputs": [],
   "source": [
    "from selenium import webdriver\n",
    "from bs4 import BeautifulSoup as BS\n",
    "import json\n",
    "import re\n",
    "from time import sleep\n",
    "import codecs"
   ]
  },
  {
   "cell_type": "code",
   "execution_count": null,
   "metadata": {
    "collapsed": true
   },
   "outputs": [],
   "source": [
    "auctions = []\n",
    "dataset = []"
   ]
  },
  {
   "cell_type": "code",
   "execution_count": null,
   "metadata": {
    "collapsed": true
   },
   "outputs": [],
   "source": [
    "driver = webdriver.PhantomJS()\n",
    "driver.set_window_size(1120, 580)"
   ]
  },
  {
   "cell_type": "code",
   "execution_count": null,
   "metadata": {
    "collapsed": true
   },
   "outputs": [],
   "source": [
    "def scrape_yy(num):\n",
    "\n",
    "    print(\"current page: %d\" % num)\n",
    "    # the kwd argument in prefix is the search term. to do: encode hangul to URL (website seems to use CP949)\n",
    "    prefix = \"http://www.g2b.go.kr:8340/search.do?\" + \"kwd=%C8%A8%C6%E4%C0%CC%C1%F6\" + \"&category=LSB&subCategory=%BF%EB%BF%AA&detailSearch=false&reSrchFlag=false&pageNum=\"\n",
    "    suffix = \"&sort=R&srchFd=ALL&date=&startDate=&endDate=&year=&orgType=balju&orgName=&orgCode=&swFlag=Y&dateType=&area=&gonggoNo=&preKwd=&preKwds=\"\n",
    "    url = prefix + str(num) + suffix\n",
    "\n",
    "    driver.get(url)\n",
    "    sleep(2)\n",
    "\n",
    "    html = BS(driver.page_source, \"lxml\")\n",
    "    search_list = html.findChild(\"ul\", { \"class\": \"search_list\" })\n",
    "    current_page_auctions = [li for li in search_list.findChildren(\"li\") if li.ul]    \n",
    "    print(\"this page has %d items\" % len(current_page_auctions))\n",
    "    \n",
    "    for l in current_page_auctions:\n",
    "        auctions.append(l)"
   ]
  },
  {
   "cell_type": "code",
   "execution_count": null,
   "metadata": {
    "collapsed": false
   },
   "outputs": [],
   "source": [
    "# to do: automatically find total number of pages\n",
    "\n",
    "for i in range(1, 451):\n",
    "    try:\n",
    "        scrape_yy(i)\n",
    "    except:\n",
    "        print(\"page %d has thrown an error\" % i)"
   ]
  },
  {
   "cell_type": "code",
   "execution_count": null,
   "metadata": {
    "collapsed": false
   },
   "outputs": [],
   "source": [
    "len(dataset)"
   ]
  },
  {
   "cell_type": "code",
   "execution_count": null,
   "metadata": {
    "collapsed": false
   },
   "outputs": [],
   "source": [
    "for auction in auctions:\n",
    "    number = auction.findChild(\"span\", { \"class\" : \"num\" }).text\n",
    "    title = auction.findChild(\"a\").text\n",
    "    category = auction.findChild(\"span\", { 'class' : 'cate1' }).text\n",
    "    company_id = re.findall(r'\\d+', auction.findChild(\"a\").attrs[\"href\"])[0]\n",
    "    agency = auction.findChild(\"span\", { 'class' : 'date' }).text.replace('\\t', '').replace('\\n','')\n",
    "    details = [li.text.replace(\"\\t\", \"\").replace(\"\\n\", \"\") for li in auction.findChildren(\"li\")]\n",
    "    \n",
    "    dataset.append([number, title, category, agency, company_id, details])"
   ]
  },
  {
   "cell_type": "code",
   "execution_count": null,
   "metadata": {
    "collapsed": false
   },
   "outputs": [],
   "source": [
    "len(dataset)\n",
    "dataset[1000]"
   ]
  },
  {
   "cell_type": "code",
   "execution_count": null,
   "metadata": {
    "collapsed": true
   },
   "outputs": [],
   "source": [
    "#mingan, gongsa - manually"
   ]
  },
  {
   "cell_type": "code",
   "execution_count": null,
   "metadata": {
    "collapsed": false
   },
   "outputs": [],
   "source": [
    "with codecs.open(\"yy.txt\", \"w\", \"utf-8\") as f:\n",
    "    json.dump(dataset, f, ensure_ascii=False)"
   ]
  },
  {
   "cell_type": "code",
   "execution_count": null,
   "metadata": {
    "collapsed": false
   },
   "outputs": [],
   "source": [
    "# lease\n",
    "leases = []\n",
    "driver = webdriver.PhantomJS()\n",
    "driver.set_window_size(1120, 580)\n",
    "\n",
    "def scrape_lease(num):\n",
    "    print(\"current page: %d\" % num)\n",
    "    \n",
    "    prefix = \"http://www.g2b.go.kr:8340/search.do?kwd=%C8%A8%C6%E4%C0%CC%C1%F6&category=LSB&subCategory=%B8%AE%BD%BA&detailSearch=false&reSrchFlag=false&pageNum=\"\n",
    "    suffix = \"&sort=R&srchFd=ALL&date=&startDate=&endDate=&year=&orgType=balju&orgName=&orgCode=&swFlag=Y&dateType=&area=&gonggoNo=&preKwd=&preKwds=\"\n",
    "    url = prefix + str(num) + suffix\n",
    "\n",
    "    driver.get(url)\n",
    "    sleep(2)\n",
    "\n",
    "    html = BS(driver.page_source, \"lxml\")\n",
    "    search_list = html.findChild(\"ul\", { \"class\": \"search_list\" })\n",
    "    current_page_auctions = [li for li in search_list.findChildren(\"li\") if li.ul]    \n",
    "    print(\"this page has %d items\" % len(current_page_auctions))\n",
    "    \n",
    "    for l in current_page_auctions:\n",
    "        leases.append(l)"
   ]
  },
  {
   "cell_type": "code",
   "execution_count": null,
   "metadata": {
    "collapsed": false
   },
   "outputs": [],
   "source": [
    "for i in range(1,3):\n",
    "    try:\n",
    "        scrape_lease(i)\n",
    "    except:\n",
    "        print(\"page %d has thrown an error\" % i)"
   ]
  },
  {
   "cell_type": "code",
   "execution_count": null,
   "metadata": {
    "collapsed": false
   },
   "outputs": [],
   "source": [
    "dataset_lease = []\n",
    "for auction in leases:\n",
    "    number = auction.findChild(\"span\", { \"class\" : \"num\" }).text\n",
    "    title = auction.findChild(\"a\").text\n",
    "    category = auction.findChild(\"span\", { 'class' : 'cate1' }).text\n",
    "    company_id = re.findall(r'\\d+', auction.findChild(\"a\").attrs[\"href\"])\n",
    "    agency = auction.findChild(\"span\", { 'class' : 'date' }).text.replace('\\t', '').replace('\\n','')\n",
    "    details = [li.text.replace(\"\\t\", \"\").replace(\"\\n\", \"\") for li in auction.findChildren(\"li\")]\n",
    "    \n",
    "    dataset_lease.append([number, title, category, agency, company_id, details])"
   ]
  },
  {
   "cell_type": "code",
   "execution_count": null,
   "metadata": {
    "collapsed": false
   },
   "outputs": [],
   "source": [
    "dataset_lease[0]"
   ]
  },
  {
   "cell_type": "code",
   "execution_count": null,
   "metadata": {
    "collapsed": false
   },
   "outputs": [],
   "source": [
    "leases[0]"
   ]
  },
  {
   "cell_type": "code",
   "execution_count": null,
   "metadata": {
    "collapsed": false
   },
   "outputs": [],
   "source": [
    "# mulpum\n",
    "mulpum = []\n",
    "driver = webdriver.PhantomJS()\n",
    "driver.set_window_size(1110, 580)\n",
    "\n",
    "def scrape_mulpum(num):\n",
    "    print(\"current page: %d\" % num)\n",
    "    \n",
    "    prefix = \"http://www.g2b.go.kr:8340/search.do?kwd=%C8%A8%C6%E4%C0%CC%C1%F6&category=LSB&subCategory=%B9%B0%C7%B0&detailSearch=false&reSrchFlag=false&pageNum=\"\n",
    "    suffix = \"&sort=ODD&srchFd=ALL&date=&startDate=&endDate=&year=&orgType=balju&orgName=&orgCode=&swFlag=Y&dateType=&area=&gonggoNo=&preKwd=&preKwds=\"\n",
    "    url = prefix + str(num) + suffix\n",
    "\n",
    "    driver.get(url)\n",
    "    sleep(2)\n",
    "\n",
    "    html = BS(driver.page_source, \"lxml\")\n",
    "    search_list = html.findChild(\"ul\", { \"class\": \"search_list\" })\n",
    "    current_page_auctions = [li for li in search_list.findChildren(\"li\") if li.ul]    \n",
    "    print(\"this page has %d items\" % len(current_page_auctions))\n",
    "    \n",
    "    for l in current_page_auctions:\n",
    "        mulpum.append(l)"
   ]
  },
  {
   "cell_type": "code",
   "execution_count": null,
   "metadata": {
    "collapsed": false
   },
   "outputs": [],
   "source": [
    "for i in range(1, 92):\n",
    "    try:\n",
    "        scrape_mulpum(i)\n",
    "    except:\n",
    "        print(\"page %d has thrown an error\" % i)\n",
    "        \n",
    "print(len(auctions), len(mulpum), len(leases))"
   ]
  },
  {
   "cell_type": "code",
   "execution_count": null,
   "metadata": {
    "collapsed": false
   },
   "outputs": [],
   "source": [
    "len(mulpum)"
   ]
  },
  {
   "cell_type": "code",
   "execution_count": null,
   "metadata": {
    "collapsed": true
   },
   "outputs": [],
   "source": [
    "dataset_mulpum = []\n",
    "for auction in mulpum:\n",
    "    number = auction.findChild(\"span\", { \"class\" : \"num\" }).text\n",
    "    title = auction.findChild(\"a\").text\n",
    "    category = auction.findChild(\"span\", { 'class' : 'cate1' }).text\n",
    "    company_id = re.findall(r'\\d+', auction.findChild(\"a\").attrs[\"href\"])\n",
    "    agency = auction.findChild(\"span\", { 'class' : 'date' }).text.replace('\\t', '').replace('\\n','')\n",
    "    details = [li.text.replace(\"\\t\", \"\").replace(\"\\n\", \"\") for li in auction.findChildren(\"li\")]\n",
    "    \n",
    "    dataset_mulpum.append([number, title, category, agency, company_id, details])"
   ]
  },
  {
   "cell_type": "code",
   "execution_count": null,
   "metadata": {
    "collapsed": false
   },
   "outputs": [],
   "source": [
    "dataset_mulpum[100]"
   ]
  },
  {
   "cell_type": "code",
   "execution_count": null,
   "metadata": {
    "collapsed": false
   },
   "outputs": [],
   "source": [
    "len(dataset_lease)"
   ]
  },
  {
   "cell_type": "code",
   "execution_count": null,
   "metadata": {
    "collapsed": true
   },
   "outputs": [],
   "source": [
    "for auction in dataset_lease:\n",
    "    dataset_mulpum.append(auction)"
   ]
  },
  {
   "cell_type": "code",
   "execution_count": null,
   "metadata": {
    "collapsed": false
   },
   "outputs": [],
   "source": [
    "len(dataset_mulpum)"
   ]
  },
  {
   "cell_type": "code",
   "execution_count": null,
   "metadata": {
    "collapsed": true
   },
   "outputs": [],
   "source": [
    "with codecs.open(\"mpls.txt\", \"w\", \"utf-8\") as f:\n",
    "    json.dump(dataset_mulpum, f, ensure_ascii=False)"
   ]
  },
  {
   "cell_type": "code",
   "execution_count": null,
   "metadata": {
    "collapsed": false
   },
   "outputs": [],
   "source": [
    "dataset_mulpum[250]"
   ]
  },
  {
   "cell_type": "code",
   "execution_count": null,
   "metadata": {
    "collapsed": true
   },
   "outputs": [],
   "source": [
    "def scrape_mulpum_detail(auction):\n",
    "    first = \"http://www.g2b.go.kr:8101/ep/tbid/selectProdWbidderG2B.do?bidno=\"\n",
    "    middle = \"&bidseq=\"\n",
    "    url = first + auction[4][0] + middle + auction[4][1]\n",
    "    \n",
    "    driver.get(url)\n",
    "    sleep(2)\n",
    "    \n",
    "    html = BS(driver.page_source, \"lxml\")\n",
    "    tableheaders = html.findChildren(\"th\")\n",
    "    tabledata = html.findChildren(\"td\")\n",
    "    table = [tableheaders[i].text + tabledata[i].text.replace(\"\\t\", \"\").replace(\"\\n\", \"\") for i in range(len(tableheaders))]\n",
    "    company_id = re.findall(r'\\d+', html.a.attrs['href'])[0]\n",
    "    auction.append(table)\n",
    "    auction[4] = company_id"
   ]
  },
  {
   "cell_type": "code",
   "execution_count": null,
   "metadata": {
    "collapsed": false
   },
   "outputs": [],
   "source": [
    "errors"
   ]
  },
  {
   "cell_type": "code",
   "execution_count": null,
   "metadata": {
    "collapsed": false,
    "scrolled": true
   },
   "outputs": [],
   "source": [
    "driver = webdriver.PhantomJS()\n",
    "driver.set_window_size(1140, 590)\n",
    "\n",
    "for i in range(len(dataset_mulpum)):\n",
    "    try:\n",
    "        scrape_mulpum_detail(dataset_mulpum[i])\n",
    "    except:\n",
    "        print(\"item %d in dataset_mulpum threw an error\" % i)\n",
    "        errors.append(i)"
   ]
  },
  {
   "cell_type": "code",
   "execution_count": null,
   "metadata": {
    "collapsed": false,
    "scrolled": true
   },
   "outputs": [],
   "source": [
    "[dataset_mulpum[i][0:2] for i in errors]"
   ]
  },
  {
   "cell_type": "code",
   "execution_count": null,
   "metadata": {
    "collapsed": false
   },
   "outputs": [],
   "source": [
    "def scrape_mulpum_complement(auction):\n",
    "    first = \"http://www.g2b.go.kr:8101/ep/tbid/selectProdWbidderG2B.do?bidno=\"\n",
    "    middle = \"&bidseq=\"\n",
    "    url = first + re.findall(r'\\d+', auction[0])[0] + middle + re.findall(r'\\d+', auction[0])[1]\n",
    "    \n",
    "    driver.get(url)\n",
    "    sleep(5)\n",
    "    \n",
    "    html = BS(driver.page_source, \"lxml\")\n",
    "    tableheaders = html.findChildren(\"th\")\n",
    "    tabledata = html.findChildren(\"td\")\n",
    "    table = [tableheaders[i].text + tabledata[i].text.replace(\"\\t\", \"\").replace(\"\\n\", \"\") for i in range(len(tableheaders))]\n",
    "    company_id = re.findall(r'\\d+', html.a.attrs['href'])[0]\n",
    "    auction.append(table)\n",
    "    auction[4] = company_id"
   ]
  },
  {
   "cell_type": "code",
   "execution_count": null,
   "metadata": {
    "collapsed": false,
    "scrolled": true
   },
   "outputs": [],
   "source": [
    "driver = webdriver.PhantomJS()\n",
    "for i in errors:\n",
    "    try:\n",
    "        scrape_mulpum_complement(dataset_mulpum[i])\n",
    "    except:\n",
    "        print(\"error at %d\" % i)"
   ]
  },
  {
   "cell_type": "code",
   "execution_count": null,
   "metadata": {
    "collapsed": false
   },
   "outputs": [],
   "source": [
    "dataset_mulpum[16]"
   ]
  },
  {
   "cell_type": "code",
   "execution_count": null,
   "metadata": {
    "collapsed": true
   },
   "outputs": [],
   "source": [
    "with codecs.open(\"mulpum.txt\", \"w\", \"utf-8\") as f:\n",
    "    json.dump(dataset_mulpum, f, ensure_ascii=False)"
   ]
  },
  {
   "cell_type": "code",
   "execution_count": null,
   "metadata": {
    "collapsed": false
   },
   "outputs": [],
   "source": [
    "# get business data\n",
    "with codecs.open(\"yongyuk.txt\", \"r\", \"utf-8\") as f:\n",
    "    yy = json.load(f)\n",
    "\n",
    "prefix = \"http://www.g2b.go.kr:8101/ep/co/selectCompInfo.do?bizRegNo=\"\n",
    "\n",
    "driver = webdriver.PhantomJS()\n",
    "\n",
    "businesses = []\n",
    "yy_errors = []\n",
    "\n",
    "for auction in yy:\n",
    "    driver.get(prefix + auction[4])\n",
    "    html = BS(driver.page_source, \"lxml\")\n",
    "    sleep(2)\n",
    "    try:\n",
    "        table_header = [header.text for header in html.tbody.findChildren(\"th\")]\n",
    "        table_data = [d.text for d in html.tbody.findChildren(\"td\")]\n",
    "        businesses.append([auction[4], table_header, table_data])\n",
    "    except:\n",
    "        print(\"error at\" + auction[4])\n",
    "        yy_errors.append(auction[4])"
   ]
  },
  {
   "cell_type": "code",
   "execution_count": null,
   "metadata": {
    "collapsed": false
   },
   "outputs": [],
   "source": [
    "len(businesses)"
   ]
  },
  {
   "cell_type": "code",
   "execution_count": null,
   "metadata": {
    "collapsed": false
   },
   "outputs": [],
   "source": [
    "[{businesses[4000][1][i]:businesses[4000][2][i]} for i in range(6)]"
   ]
  },
  {
   "cell_type": "code",
   "execution_count": null,
   "metadata": {
    "collapsed": true
   },
   "outputs": [],
   "source": [
    "with codecs.open(\"businesses.txt\", \"w\", \"utf-8\") as f:\n",
    "    json.dump(businesses, f, ensure_ascii=False)"
   ]
  },
  {
   "cell_type": "code",
   "execution_count": null,
   "metadata": {
    "collapsed": false,
    "scrolled": false
   },
   "outputs": [],
   "source": [
    "yy[4003], businesses[4003]"
   ]
  },
  {
   "cell_type": "code",
   "execution_count": null,
   "metadata": {
    "collapsed": false
   },
   "outputs": [],
   "source": [
    "with codecs.open(\"b_homepage.txt\", \"w\", \"utf-8\") as f:\n",
    "    f.write('auction_id;title;category;agency;business_id;date;reauction;bidders;winner;bid;bid_rate;kr;en;ceo;address;phone;url \\n')\n",
    "    for n in range(len(yy)):\n",
    "        auction_id = yy[n][0][1:-1]\n",
    "        title = yy[n][1]\n",
    "        category = yy[n][2]\n",
    "        agency = yy[n][3][4:]\n",
    "        business_id = yy[n][4]\n",
    "\n",
    "        date = yy[n][5][0][4:]\n",
    "        reauction = yy[n][5][1][3:]\n",
    "        bidders = yy[n][5][2][2:]\n",
    "        winner = yy[n][5][3][3:]\n",
    "        bid = yy[n][5][4][4:]\n",
    "\n",
    "        try:\n",
    "            bid_rate = yy[n][5][5][3:]\n",
    "        except:\n",
    "            bid_rate = ' '\n",
    "\n",
    "        business_info = ';'.join([businesses[n][2][i] for i in range(6)]).replace(';;', '; ;')\n",
    "\n",
    "        f.write(';'.join([auction_id, title, category, agency, business_id, date, reauction, bidders, winner, bid, bid_rate, business_info]) + ' \\n')"
   ]
  },
  {
   "cell_type": "code",
   "execution_count": null,
   "metadata": {
    "collapsed": false
   },
   "outputs": [],
   "source": [
    "yy[n][:5]) + ';' + ';'.join(yy[n][5]) + ';' + ';'.join([businesses[n][2][i] for i in range(6)]) + '\\n'"
   ]
  },
  {
   "cell_type": "code",
   "execution_count": null,
   "metadata": {
    "collapsed": false
   },
   "outputs": [],
   "source": [
    "# line = yy[n][0][1:-1] + ';' + yy[n][1] + ';' + yy[n][2] + ';' + yy[n][3][4:] + ';' + yy[n][4] + ';' + yy[n][5][0][4:] + ';' + yy[n][5][1][3:] + ';' + yy[n][5][2][2:] + ';' + yy[n][5][3][3:] + ';' + yy[n][5][4][4:] + ';' + yy[n][5][5][3:] + ';' + ';'.join([businesses[n][2][i] for i in range(6)])\n",
    "line = \"20091204452-00;양천문화회관 홈페이지개편 및 입장권예매발권시스템 구축용역;용역;서울특별시 양천구;1208627025;2009/12/14 11:00;0;5;(주)씨스퀘어소프트;52,370,500;88.430;(주)씨스퀘어소프트;C'SQUARE SOFT;박현진;서울특별시 강남구 언주로\\xa0726, 11층 2호(논현동, 두산빌딩);;www.mainticket.co.kr\"\n",
    "\n",
    "line.replace(';;', '; ;')"
   ]
  },
  {
   "cell_type": "code",
   "execution_count": null,
   "metadata": {
    "collapsed": false
   },
   "outputs": [],
   "source": [
    "len(yy), len(businesses)"
   ]
  },
  {
   "cell_type": "code",
   "execution_count": null,
   "metadata": {
    "collapsed": true
   },
   "outputs": [],
   "source": []
  }
 ],
 "metadata": {
  "kernelspec": {
   "display_name": "Python 3",
   "language": "python",
   "name": "python3"
  },
  "language_info": {
   "codemirror_mode": {
    "name": "ipython",
    "version": 3
   },
   "file_extension": ".py",
   "mimetype": "text/x-python",
   "name": "python",
   "nbconvert_exporter": "python",
   "pygments_lexer": "ipython3",
   "version": "3.5.1"
  }
 },
 "nbformat": 4,
 "nbformat_minor": 0
}
